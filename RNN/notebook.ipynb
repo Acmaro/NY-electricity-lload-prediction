{
 "cells": [
  {
   "cell_type": "markdown",
   "metadata": {},
   "source": [
    "# Import Libraries"
   ]
  },
  {
   "cell_type": "code",
   "execution_count": 257,
   "metadata": {},
   "outputs": [],
   "source": [
    "import pandas as pd\n",
    "import torch\n",
    "import torch.nn as nn\n",
    "import torch.nn.functional as F\n",
    "import torch.optim as optim"
   ]
  },
  {
   "cell_type": "markdown",
   "metadata": {},
   "source": [
    "# Import Data from .csv"
   ]
  },
  {
   "cell_type": "code",
   "execution_count": 258,
   "metadata": {},
   "outputs": [
    {
     "data": {
      "text/html": [
       "<div>\n",
       "<style scoped>\n",
       "    .dataframe tbody tr th:only-of-type {\n",
       "        vertical-align: middle;\n",
       "    }\n",
       "\n",
       "    .dataframe tbody tr th {\n",
       "        vertical-align: top;\n",
       "    }\n",
       "\n",
       "    .dataframe thead th {\n",
       "        text-align: right;\n",
       "    }\n",
       "</style>\n",
       "<table border=\"1\" class=\"dataframe\">\n",
       "  <thead>\n",
       "    <tr style=\"text-align: right;\">\n",
       "      <th></th>\n",
       "      <th>timestamp</th>\n",
       "      <th>load</th>\n",
       "      <th>weathertime</th>\n",
       "      <th>temp</th>\n",
       "      <th>wspd</th>\n",
       "      <th>pressure</th>\n",
       "      <th>precip_hrly</th>\n",
       "      <th>dow</th>\n",
       "      <th>doy</th>\n",
       "      <th>day</th>\n",
       "      <th>month</th>\n",
       "      <th>hour</th>\n",
       "      <th>minute</th>\n",
       "      <th>year</th>\n",
       "    </tr>\n",
       "  </thead>\n",
       "  <tbody>\n",
       "    <tr>\n",
       "      <th>0</th>\n",
       "      <td>2020-01-01 00:00:00</td>\n",
       "      <td>1208.4</td>\n",
       "      <td>2020-01-01 00:51:00</td>\n",
       "      <td>40</td>\n",
       "      <td>14.0</td>\n",
       "      <td>29.63</td>\n",
       "      <td>0.0</td>\n",
       "      <td>2</td>\n",
       "      <td>1</td>\n",
       "      <td>1</td>\n",
       "      <td>1</td>\n",
       "      <td>0</td>\n",
       "      <td>0</td>\n",
       "      <td>2020</td>\n",
       "    </tr>\n",
       "    <tr>\n",
       "      <th>1</th>\n",
       "      <td>2020-01-01 00:05:00</td>\n",
       "      <td>1191.0</td>\n",
       "      <td>2020-01-01 00:51:00</td>\n",
       "      <td>40</td>\n",
       "      <td>14.0</td>\n",
       "      <td>29.63</td>\n",
       "      <td>0.0</td>\n",
       "      <td>2</td>\n",
       "      <td>1</td>\n",
       "      <td>1</td>\n",
       "      <td>1</td>\n",
       "      <td>0</td>\n",
       "      <td>5</td>\n",
       "      <td>2020</td>\n",
       "    </tr>\n",
       "    <tr>\n",
       "      <th>2</th>\n",
       "      <td>2020-01-01 00:10:00</td>\n",
       "      <td>1195.5</td>\n",
       "      <td>2020-01-01 00:51:00</td>\n",
       "      <td>40</td>\n",
       "      <td>14.0</td>\n",
       "      <td>29.63</td>\n",
       "      <td>0.0</td>\n",
       "      <td>2</td>\n",
       "      <td>1</td>\n",
       "      <td>1</td>\n",
       "      <td>1</td>\n",
       "      <td>0</td>\n",
       "      <td>10</td>\n",
       "      <td>2020</td>\n",
       "    </tr>\n",
       "    <tr>\n",
       "      <th>3</th>\n",
       "      <td>2020-01-01 00:15:00</td>\n",
       "      <td>1210.9</td>\n",
       "      <td>2020-01-01 00:51:00</td>\n",
       "      <td>40</td>\n",
       "      <td>14.0</td>\n",
       "      <td>29.63</td>\n",
       "      <td>0.0</td>\n",
       "      <td>2</td>\n",
       "      <td>1</td>\n",
       "      <td>1</td>\n",
       "      <td>1</td>\n",
       "      <td>0</td>\n",
       "      <td>15</td>\n",
       "      <td>2020</td>\n",
       "    </tr>\n",
       "    <tr>\n",
       "      <th>4</th>\n",
       "      <td>2020-01-01 00:20:00</td>\n",
       "      <td>1186.3</td>\n",
       "      <td>2020-01-01 00:51:00</td>\n",
       "      <td>40</td>\n",
       "      <td>14.0</td>\n",
       "      <td>29.63</td>\n",
       "      <td>0.0</td>\n",
       "      <td>2</td>\n",
       "      <td>1</td>\n",
       "      <td>1</td>\n",
       "      <td>1</td>\n",
       "      <td>0</td>\n",
       "      <td>20</td>\n",
       "      <td>2020</td>\n",
       "    </tr>\n",
       "  </tbody>\n",
       "</table>\n",
       "</div>"
      ],
      "text/plain": [
       "             timestamp    load          weathertime  temp  wspd  pressure  \\\n",
       "0  2020-01-01 00:00:00  1208.4  2020-01-01 00:51:00    40  14.0     29.63   \n",
       "1  2020-01-01 00:05:00  1191.0  2020-01-01 00:51:00    40  14.0     29.63   \n",
       "2  2020-01-01 00:10:00  1195.5  2020-01-01 00:51:00    40  14.0     29.63   \n",
       "3  2020-01-01 00:15:00  1210.9  2020-01-01 00:51:00    40  14.0     29.63   \n",
       "4  2020-01-01 00:20:00  1186.3  2020-01-01 00:51:00    40  14.0     29.63   \n",
       "\n",
       "   precip_hrly  dow  doy  day  month  hour  minute  year  \n",
       "0          0.0    2    1    1      1     0       0  2020  \n",
       "1          0.0    2    1    1      1     0       5  2020  \n",
       "2          0.0    2    1    1      1     0      10  2020  \n",
       "3          0.0    2    1    1      1     0      15  2020  \n",
       "4          0.0    2    1    1      1     0      20  2020  "
      ]
     },
     "execution_count": 258,
     "metadata": {},
     "output_type": "execute_result"
    }
   ],
   "source": [
    "df_raw = pd.read_csv(r'C:\\Users\\zhaor\\OneDrive - McMaster University\\COMPSCI 4AL3\\Final Project\\NY-electricity-load-prediction\\data\\Prepared data\\2020_features.csv')\n",
    "df_raw.head()"
   ]
  },
  {
   "cell_type": "markdown",
   "metadata": {},
   "source": [
    "# Add Day Type (weekday, weekend, holiday)"
   ]
  },
  {
   "cell_type": "code",
   "execution_count": 259,
   "metadata": {},
   "outputs": [],
   "source": [
    "import datetime\n",
    "import holidays\n",
    "\n",
    "def is_workday(date:datetime.date):\n",
    "    \"\"\"\n",
    "    Determines the type of day (workday or not) for a given date.\n",
    "\n",
    "    Args:\n",
    "        date (datetime.date): The date to check.\n",
    "\n",
    "    Returns:\n",
    "        int: 1 if workday else 0.\n",
    "    \"\"\"\n",
    "    # Get the US holidays\n",
    "    us_holidays = holidays.US()\n",
    "\n",
    "    # Check if the date is a holiday\n",
    "    if date in us_holidays:\n",
    "        return 0\n",
    "\n",
    "    # Check if the date is a weekend\n",
    "    if date.weekday() >= 5:  # Saturday is 5, Sunday is 6\n",
    "        return 0\n",
    "\n",
    "    # Otherwise, it's a weekday\n",
    "    return 1\n"
   ]
  },
  {
   "cell_type": "code",
   "execution_count": 260,
   "metadata": {},
   "outputs": [],
   "source": [
    "from sklearn.base import BaseEstimator, TransformerMixin\n",
    "import pandas as pd\n",
    "import numpy as np\n",
    "\n",
    "class TimestampTransformer(BaseEstimator, TransformerMixin):\n",
    "    def __init__(self):\n",
    "        pass\n",
    "\n",
    "    def fit(self, X, y=None):\n",
    "        return self\n",
    "\n",
    "    def transform(self, X, y=None):\n",
    "        X = X.copy()\n",
    "\n",
    "        X['timestamp'] = pd.to_datetime(X['timestamp'])\n",
    "        X['is_workday'] = X['timestamp'].apply(lambda x: is_workday(x.date()))\n",
    "        X['month'] = X['timestamp'].dt.month\n",
    "        X['day'] = X['timestamp'].dt.day\n",
    "        X['hour'] = X['timestamp'].dt.hour\n",
    "        X = X.drop('timestamp', axis=1)\n",
    "        return X"
   ]
  },
  {
   "cell_type": "code",
   "execution_count": 261,
   "metadata": {},
   "outputs": [],
   "source": [
    "df = df_raw[['timestamp', 'load', 'temp']].copy()\n",
    "del df_raw"
   ]
  },
  {
   "cell_type": "markdown",
   "metadata": {},
   "source": [
    "# Data Preprossing"
   ]
  },
  {
   "cell_type": "code",
   "execution_count": 262,
   "metadata": {},
   "outputs": [],
   "source": [
    "from sklearn.compose import ColumnTransformer\n",
    "from sklearn.preprocessing import StandardScaler, FunctionTransformer\n",
    "from sklearn.impute import SimpleImputer\n",
    "from sklearn.pipeline import Pipeline\n",
    "\n",
    "timestamp_transformer = TimestampTransformer()\n",
    "df = timestamp_transformer.transform(df)\n",
    "scaler_temp = StandardScaler()\n",
    "scaler_load = StandardScaler()\n",
    "df['temp'] = scaler_temp.fit_transform(df[['temp']])\n",
    "df['load'] = scaler_load.fit_transform(df[['load']])"
   ]
  },
  {
   "cell_type": "markdown",
   "metadata": {},
   "source": [
    "# Make Dataset"
   ]
  },
  {
   "cell_type": "code",
   "execution_count": 263,
   "metadata": {},
   "outputs": [],
   "source": [
    "import torch\n",
    "from torch.utils.data import Dataset\n",
    "from torchvision.transforms import Compose\n",
    "\n",
    "class TimeSeriesDataset(Dataset):\n",
    "    def __init__(self, df, seq_len, transform=None, target_transform=None):\n",
    "        \"\"\"\n",
    "        Custom Dataset for multivariate time series.\n",
    "\n",
    "        Args:\n",
    "            df (pd.Dataframe): Assume the dataframe has been preprocessed and has only numeriacal values.\n",
    "            seq_length (int): Length of each sequence.\n",
    "            transform: Composition of transformations.\n",
    "        \"\"\"\n",
    "        super(TimeSeriesDataset, self).__init__()\n",
    "        self.df = df\n",
    "        self.features = self.df.values\n",
    "        self.targets = self.df['load'].values\n",
    "        self.seq_len = seq_len\n",
    "        # self.transform = transform\n",
    "        # self.target_transform = target_transform\n",
    "    \n",
    "    def __len__(self):\n",
    "        return len(self.features) - self.seq_len\n",
    "    \n",
    "    def __getitem__(self, idx):\n",
    "        sequence = self.features[idx:idx + self.seq_len, :]\n",
    "        sequence = torch.tensor(sequence, dtype=torch.float32)\n",
    "        target = self.targets[idx + self.seq_len]\n",
    "        target = torch.tensor(target, dtype=torch.float32)\n",
    "        # if self.transform:\n",
    "        #     sequence = self.transform(sequence)\n",
    "        # if self.target_transform:\n",
    "        #     target = self.target_transform(target)\n",
    "        return sequence, target"
   ]
  },
  {
   "cell_type": "code",
   "execution_count": 264,
   "metadata": {},
   "outputs": [],
   "source": [
    "import numpy as np\n",
    "\n",
    "dataset = TimeSeriesDataset(df, seq_len=64)\n",
    "train_size = int(0.8 * len(dataset))\n",
    "train_dataset = torch.utils.data.Subset(dataset, range(train_size))\n",
    "test_dataset = torch.utils.data.Subset(dataset, range(train_size, len(dataset)))"
   ]
  },
  {
   "cell_type": "markdown",
   "metadata": {},
   "source": [
    "# Make Dataloader"
   ]
  },
  {
   "cell_type": "code",
   "execution_count": 266,
   "metadata": {},
   "outputs": [],
   "source": [
    "from torch.utils.data import DataLoader\n",
    "\n",
    "batch_size = 64\n",
    "train_loader = DataLoader(train_dataset, batch_size, shuffle=True, num_workers=8, pin_memory=True)\n",
    "test_loader = DataLoader(test_dataset, batch_size, shuffle=False, num_workers=8, pin_memory=True)"
   ]
  },
  {
   "cell_type": "markdown",
   "metadata": {},
   "source": [
    "# Model Implementation"
   ]
  },
  {
   "cell_type": "code",
   "execution_count": 267,
   "metadata": {},
   "outputs": [],
   "source": [
    "import torch.nn as nn\n",
    "import torch.nn.functional as F\n",
    "\n",
    "import torch.nn as nn\n",
    "\n",
    "class SimpleRNN(nn.Module):\n",
    "    def __init__(self, input_size, hidden_size, num_layers=1):\n",
    "        super(SimpleRNN, self).__init__()\n",
    "        self.hidden_size = hidden_size\n",
    "        self.num_layers = num_layers\n",
    "        \n",
    "        self.lstm = nn.LSTM(input_size, hidden_size, num_layers, batch_first=True)\n",
    "        \n",
    "        self.fc = nn.Linear(hidden_size, 1)\n",
    "        \n",
    "    def forward(self, x):\n",
    "        h0 = torch.zeros(self.num_layers, x.size(0), self.hidden_size).to(x.device)\n",
    "        c0 = torch.zeros(self.num_layers, x.size(0), self.hidden_size).to(x.device)\n",
    "        \n",
    "        out, _ = self.lstm(x, (h0, c0))\n",
    "        out = out[:, -1, :]\n",
    "        out = self.fc(out)\n",
    "        \n",
    "        return out\n",
    "\n"
   ]
  },
  {
   "cell_type": "markdown",
   "metadata": {},
   "source": [
    "# Training"
   ]
  },
  {
   "cell_type": "code",
   "execution_count": 268,
   "metadata": {},
   "outputs": [],
   "source": [
    "def model_evaluation(model, criterion, data_loader, device='cuda'):\n",
    "\n",
    "    batch_losses = []\n",
    "\n",
    "    model.eval() # switch to evalution mode\n",
    "    with torch.no_grad():\n",
    "        for inputs, labels in data_loader:\n",
    "\n",
    "            # move to GPU\n",
    "            if torch.cuda.is_available():\n",
    "                inputs = inputs.to(device)\n",
    "                labels = labels.to(device)\n",
    "\n",
    "            outputs = model(inputs)\n",
    "            labels = labels.unsqueeze(1)\n",
    "            # compute loss for this batch\n",
    "            loss = criterion(outputs, labels)\n",
    "            batch_losses.append(loss.item())\n",
    "\n",
    "    model.train() # switch to training mode\n",
    "\n",
    "    loss_mean = np.mean(batch_losses)\n",
    "\n",
    "    return loss_mean\n",
    "\n",
    "def training_loop(n_epochs, optimizer, model, criterion, train_loader, test_loader, verbose=False, device='cuda'):\n",
    "    '''\n",
    "    Return\n",
    "    ------\n",
    "    \n",
    "    - train_loss\n",
    "    - test_loss\n",
    "    '''\n",
    "    train_losses = []\n",
    "    test_losses = []\n",
    "\n",
    "    for n in range(n_epochs):\n",
    "\n",
    "        for x_batch, y_batch in train_loader:\n",
    "            # move to GPU\n",
    "            if torch.cuda.is_available():\n",
    "                x_batch = x_batch.to(device)\n",
    "                y_batch = y_batch.to(device)\n",
    "\n",
    "            outputs = model(x_batch)\n",
    "            \n",
    "            y_batch = y_batch.unsqueeze(1)\n",
    "\n",
    "            loss = criterion(outputs, y_batch)\n",
    "            optimizer.zero_grad()\n",
    "            loss.backward()\n",
    "            optimizer.step()\n",
    "        \n",
    "        train_loss = model_evaluation(model, criterion, train_loader)\n",
    "        test_loss = model_evaluation(model, criterion, test_loader)\n",
    "\n",
    "        if ((n + 1) % 10 == 0) or verbose:\n",
    "            print(f'Epoch {n + 1}/{n_epochs}: Training loss {train_loss:.4f}, Validation Loss {test_loss:.4f}')\n",
    "            print('----------------------------------------------------------')\n",
    "\n",
    "        train_losses.append(train_loss)\n",
    "        test_losses.append(test_loss)\n",
    "\n",
    "    return train_losses, test_losses"
   ]
  },
  {
   "cell_type": "code",
   "execution_count": null,
   "metadata": {},
   "outputs": [],
   "source": [
    "input_size = 6  # Number of features\n",
    "hidden_size = 64\n",
    "num_layers = 2\n",
    "num_epochs = 50\n",
    "\n",
    "model = SimpleRNN(input_size, hidden_size, num_layers).to('cuda')\n",
    "criterion = nn.L1Loss()\n",
    "optimizer = torch.optim.Adam(model.parameters(), lr=0.001)\n",
    "\n",
    "train_losses, val_losses = training_loop(num_epochs, optimizer, model, criterion, train_loader, test_loader, verbose=True)"
   ]
  },
  {
   "cell_type": "markdown",
   "metadata": {},
   "source": [
    "# Make Predictions\n",
    "\n",
    "We will make predictions using 2020 data. "
   ]
  },
  {
   "cell_type": "code",
   "execution_count": null,
   "metadata": {},
   "outputs": [],
   "source": [
    "# get 2021 data\n",
    "df_2021 = pd.read_csv(r'C:\\Users\\zhaor\\OneDrive - McMaster University\\COMPSCI 4AL3\\Final Project\\NY-electricity-load-prediction\\data\\Prepared data\\2021_features.csv')\n",
    "\n",
    "df_2021['temp'] = scaler_temp.transform(df_2021['temp'])\n",
    "df_2021['load'] = scaler_load.transform(df_2021['load'])"
   ]
  },
  {
   "cell_type": "code",
   "execution_count": 255,
   "metadata": {},
   "outputs": [],
   "source": [
    "def make_predictions(model, initial_data, future_data, device='cuda'):\n",
    "    '''\n",
    "    Make multi-step predictions based on the length of future_data.\n",
    "\n",
    "    Parameters\n",
    "    ----------\n",
    "    model: Assume trained.\n",
    "    initial_data (pd.Dataframe): The data to start the prediction. Assume data is normalized.\n",
    "    future_data (pd.Dataframe): Has 'load', 'temp', 'is_workday', 'month', 'day', 'hour' columns. Assume data is normalized.\n",
    "\n",
    "    Returns\n",
    "    -------\n",
    "    predictions (list): List of predictions (normalized).\n",
    "    '''\n",
    "    \n",
    "    initial_data = torch.tensor(initial_data.values, dtype=torch.float32).to(device)\n",
    "    future_data = torch.tensor(future_data.values, dtype=torch.float32).to(device)\n",
    "\n",
    "    predictions = []\n",
    "\n",
    "    with torch.no_grad():\n",
    "        sequence = initial_data\n",
    "        for i in range(len(future_data)):\n",
    "            # make prediction\n",
    "            print(sequence.unsqueeze(0))\n",
    "            next_load = model(sequence.unsqueeze(0))\n",
    "            print(next_load)\n",
    "            predictions.append(next_load.item())\n",
    "            # combine with future data\n",
    "            next_data = torch.cat([next_load, future_data[i, 1:].unsqueeze(0)], 1)\n",
    "            # update sequence\n",
    "            sequence = torch.cat([sequence[1:], next_data], 0)\n",
    "    \n",
    "    return predictions"
   ]
  },
  {
   "cell_type": "code",
   "execution_count": null,
   "metadata": {},
   "outputs": [],
   "source": [
    "initial_data = df.iloc[-64:]\n",
    "future_data = df_2021.iloc[:64]\n",
    "\n",
    "predictions = make_predictions(model, initial_data, future_data, device='cuda')"
   ]
  },
  {
   "cell_type": "code",
   "execution_count": null,
   "metadata": {},
   "outputs": [
    {
     "data": {
      "image/png": "[encoded data removed]",
      "text/plain": [
       "<Figure size 640x480 with 1 Axes>"
      ]
     },
     "metadata": {},
     "output_type": "display_data"
    }
   ],
   "source": [
    "# plot actual vs predicted\n",
    "import matplotlib.pyplot as plt\n",
    "\n",
    "# combine last 64 time steps in 2020 and first 64 time steps in 2021\n",
    "initial = initial_data['load'].iloc[-64:].values\n",
    "future = future_data['load'].iloc[:64].values\n",
    "actual = np.concatenate([initial, future])\n",
    "\n",
    "plt.plot(actual, label='Actual')\n",
    "# shift the predictions to align with the actual data\n",
    "plt.plot([None]*64 + predictions, label='Predicted')\n",
    "plt.legend()\n",
    "plt.show()"
   ]
  }
 ],
 "metadata": {
  "kernelspec": {
   "display_name": "ml",
   "language": "python",
   "name": "python3"
  },
  "language_info": {
   "codemirror_mode": {
    "name": "ipython",
    "version": 3
   },
   "file_extension": ".py",
   "mimetype": "text/x-python",
   "name": "python",
   "nbconvert_exporter": "python",
   "pygments_lexer": "ipython3",
   "version": "3.12.3"
  }
 },
 "nbformat": 4,
 "nbformat_minor": 2
}
